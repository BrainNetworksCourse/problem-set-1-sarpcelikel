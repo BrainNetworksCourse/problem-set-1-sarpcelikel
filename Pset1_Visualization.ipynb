{
 "cells": [
  {
   "cell_type": "markdown",
   "metadata": {},
   "source": [
    "## Visualizing data in python"
   ]
  },
  {
   "cell_type": "markdown",
   "metadata": {},
   "source": [
    "In this exercise we will use the [nilearn](https://nilearn.github.io) package to visualize neuroimaging data."
   ]
  },
  {
   "cell_type": "code",
   "execution_count": 1,
   "metadata": {},
   "outputs": [],
   "source": [
    "import os\n",
    "import collections\n",
    "import xml.etree.ElementTree as ET\n",
    "\n",
    "import nibabel\n",
    "from nilearn import plotting\n",
    "import matplotlib.pyplot as plt\n",
    "%matplotlib inline"
   ]
  },
  {
   "cell_type": "markdown",
   "metadata": {},
   "source": [
    "For this exercise we will be using some of the data files from the FSL distribution as well as some other files downloaded from neurovault."
   ]
  },
  {
   "cell_type": "code",
   "execution_count": 2,
   "metadata": {},
   "outputs": [
    {
     "ename": "KeyError",
     "evalue": "'FSLDIR'",
     "output_type": "error",
     "traceback": [
      "\u001b[0;31m---------------------------------------------------------------------------\u001b[0m",
      "\u001b[0;31mKeyError\u001b[0m                                  Traceback (most recent call last)",
      "\u001b[0;32m<ipython-input-2-81e0eb2e67b5>\u001b[0m in \u001b[0;36m<module>\u001b[0;34m()\u001b[0m\n\u001b[0;32m----> 1\u001b[0;31m \u001b[0mFSLDIR\u001b[0m\u001b[0;34m=\u001b[0m\u001b[0mos\u001b[0m\u001b[0;34m.\u001b[0m\u001b[0menviron\u001b[0m\u001b[0;34m[\u001b[0m\u001b[0;34m'FSLDIR'\u001b[0m\u001b[0;34m]\u001b[0m\u001b[0;34m\u001b[0m\u001b[0m\n\u001b[0m\u001b[1;32m      2\u001b[0m \u001b[0mprint\u001b[0m\u001b[0;34m(\u001b[0m\u001b[0mFSLDIR\u001b[0m\u001b[0;34m)\u001b[0m\u001b[0;34m\u001b[0m\u001b[0m\n\u001b[1;32m      3\u001b[0m \u001b[0;34m\u001b[0m\u001b[0m\n\u001b[1;32m      4\u001b[0m \u001b[0mT1file\u001b[0m\u001b[0;34m=\u001b[0m\u001b[0mos\u001b[0m\u001b[0;34m.\u001b[0m\u001b[0mpath\u001b[0m\u001b[0;34m.\u001b[0m\u001b[0mjoin\u001b[0m\u001b[0;34m(\u001b[0m\u001b[0mFSLDIR\u001b[0m\u001b[0;34m,\u001b[0m\u001b[0;34m'data/standard/MNI152_T1_2mm_brain.nii.gz'\u001b[0m\u001b[0;34m)\u001b[0m\u001b[0;34m\u001b[0m\u001b[0m\n\u001b[1;32m      5\u001b[0m \u001b[0mstatmap\u001b[0m\u001b[0;34m=\u001b[0m\u001b[0;34m'../data/neurovault/nv304.nii.gz'\u001b[0m\u001b[0;34m\u001b[0m\u001b[0m\n",
      "\u001b[0;32m/anaconda3/envs/py36/lib/python3.6/os.py\u001b[0m in \u001b[0;36m__getitem__\u001b[0;34m(self, key)\u001b[0m\n\u001b[1;32m    667\u001b[0m         \u001b[0;32mexcept\u001b[0m \u001b[0mKeyError\u001b[0m\u001b[0;34m:\u001b[0m\u001b[0;34m\u001b[0m\u001b[0m\n\u001b[1;32m    668\u001b[0m             \u001b[0;31m# raise KeyError with the original key value\u001b[0m\u001b[0;34m\u001b[0m\u001b[0;34m\u001b[0m\u001b[0m\n\u001b[0;32m--> 669\u001b[0;31m             \u001b[0;32mraise\u001b[0m \u001b[0mKeyError\u001b[0m\u001b[0;34m(\u001b[0m\u001b[0mkey\u001b[0m\u001b[0;34m)\u001b[0m \u001b[0;32mfrom\u001b[0m \u001b[0;32mNone\u001b[0m\u001b[0;34m\u001b[0m\u001b[0m\n\u001b[0m\u001b[1;32m    670\u001b[0m         \u001b[0;32mreturn\u001b[0m \u001b[0mself\u001b[0m\u001b[0;34m.\u001b[0m\u001b[0mdecodevalue\u001b[0m\u001b[0;34m(\u001b[0m\u001b[0mvalue\u001b[0m\u001b[0;34m)\u001b[0m\u001b[0;34m\u001b[0m\u001b[0m\n\u001b[1;32m    671\u001b[0m \u001b[0;34m\u001b[0m\u001b[0m\n",
      "\u001b[0;31mKeyError\u001b[0m: 'FSLDIR'"
     ]
    }
   ],
   "source": [
    "FSLDIR=os.environ['FSLDIR']\n",
    "print(FSLDIR)\n",
    "\n",
    "T1file=os.path.join(FSLDIR,'data/standard/MNI152_T1_2mm_brain.nii.gz')\n",
    "statmap='../data/neurovault/nv304.nii.gz'\n",
    "tractfile=os.path.join(FSLDIR,'data/atlases/JHU/JHU-ICBM-tracts-prob-2mm.nii.gz')\n"
   ]
  },
  {
   "cell_type": "markdown",
   "metadata": {},
   "source": [
    "First, plot the anatomical image using the ```plot_anat``` function from nilearn.plotting."
   ]
  },
  {
   "cell_type": "code",
   "execution_count": null,
   "metadata": {},
   "outputs": [],
   "source": [
    "plotting.plot_anat(T1file)"
   ]
  },
  {
   "cell_type": "markdown",
   "metadata": {},
   "source": [
    "**Problem 1**: Plot the statistical map from our example (which we loaded above into the variable ```statmap```) overlaid on the T1-weighted anatomical image, using the appropriate plotting command from nilearn.plotting.  Threshold the statistical image at Z=3.  The result should look like this:\n",
    "\n",
    "![Solution](Problem1_solution.png \"Intended solution for Problem 1\")\n"
   ]
  },
  {
   "cell_type": "code",
   "execution_count": null,
   "metadata": {},
   "outputs": [],
   "source": [
    "#insert solution here\n",
    "plotting.plot_stat_map(statmap,T1file, threshold=3)"
   ]
  },
  {
   "cell_type": "markdown",
   "metadata": {},
   "source": [
    "# Loading FSL atlases\n",
    "\n",
    "Now let's load the white matter atlas from FSL and display it using the ```prob_atlas``` function from nilearn.plotting."
   ]
  },
  {
   "cell_type": "code",
   "execution_count": null,
   "metadata": {},
   "outputs": [],
   "source": [
    "p=plotting.plot_prob_atlas(tractfile)\n"
   ]
  },
  {
   "cell_type": "markdown",
   "metadata": {},
   "source": [
    "Plotting all 20 of the tracts at once is not very helpful, so let's focus in on a specific tract.  First we need to load the metadata file so that we can find out which image is associated with which tract.  "
   ]
  },
  {
   "cell_type": "code",
   "execution_count": null,
   "metadata": {},
   "outputs": [],
   "source": [
    "def get_atlas_metadata(atlasfile):\n",
    "    \"\"\"\n",
    "    function to load metadata from FSL atlas\n",
    "    \"\"\"\n",
    "    tree=ET.parse(atlasfile)\n",
    "    md=collections.OrderedDict()\n",
    "    for i in tree.iter():\n",
    "        if 'index' in i.attrib:\n",
    "            md[int(i.attrib['index'])]=i.text\n",
    "    return md\n",
    "\n",
    "# load the tract image and data/metadata\n",
    "\n",
    "tractimg=nibabel.load(tractfile)\n",
    "tractdata=tractimg.get_data()\n",
    "jhu_metadata_file=os.path.join(FSLDIR,'data/atlases/JHU-tracts.xml')\n",
    "jhu_md=get_atlas_metadata(jhu_metadata_file)\n"
   ]
  },
  {
   "cell_type": "markdown",
   "metadata": {},
   "source": [
    "**Problem 2**: Loop through each of the regions in the metadata variable ```jhu_md``` and print the tract number followed by the name of the structure.  The output should look like this:\n",
    "\n",
    "```\n",
    "0 Anterior thalamic radiation L\n",
    "\n",
    "1 Anterior thalamic radiation R\n",
    "\n",
    "2 Corticospinal tract L\n",
    "\n",
    "3 Corticospinal tract R\n",
    "...\n",
    "```\n",
    "\n",
    "and so on for all of the tracts"
   ]
  },
  {
   "cell_type": "code",
   "execution_count": null,
   "metadata": {},
   "outputs": [],
   "source": [
    "# INSERT SOLUTION HERE\n"
   ]
  },
  {
   "cell_type": "markdown",
   "metadata": {},
   "source": [
    "**Problem 3**: Now let's loop through and display each of these tracts using a \"glass brain\" projection.  The code snippet below does some of the work - you need to fill in the blanks as noted in the comments.  Here is an example of what the output should look like for the first tract:\n",
    "\n",
    "![Solution](Problem3_solution.png \"Intended solution for Problem 3\")"
   ]
  },
  {
   "cell_type": "code",
   "execution_count": null,
   "metadata": {},
   "outputs": [],
   "source": [
    "# loop through and display each tract as a glass brain\n",
    "for i in jhu_md:\n",
    "    # create temporary 3d Nifti image for each tract\n",
    "    td=tractdata[:,:,:,i]\n",
    "    ti=nibabel.Nifti1Image(td,affine=tractimg.affine)\n",
    "    \n",
    "    # plot the image as a \"glass brain\" using nilearn.plotting with the title as shown in the example above\n",
    "    # INSERT PLOTTING FUNCTION HERE\n"
   ]
  },
  {
   "cell_type": "code",
   "execution_count": null,
   "metadata": {},
   "outputs": [],
   "source": []
  }
 ],
 "metadata": {
  "kernelspec": {
   "display_name": "Python 3",
   "language": "python",
   "name": "python3"
  },
  "language_info": {
   "codemirror_mode": {
    "name": "ipython",
    "version": 3
   },
   "file_extension": ".py",
   "mimetype": "text/x-python",
   "name": "python",
   "nbconvert_exporter": "python",
   "pygments_lexer": "ipython3",
   "version": "3.6.6"
  }
 },
 "nbformat": 4,
 "nbformat_minor": 2
}
